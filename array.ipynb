{
 "cells": [
  {
   "cell_type": "markdown",
   "id": "ffbc0186",
   "metadata": {},
   "source": [
    "# 303. Range Sum Query - Immutable\n",
    "[link](https://leetcode.com/problems/range-sum-query-immutable/)\n"
   ]
  },
  {
   "cell_type": "code",
   "execution_count": null,
   "id": "9598e132",
   "metadata": {},
   "outputs": [],
   "source": [
    "from typing import List\n",
    "\n",
    "\n",
    "class NumArray:\n",
    "    def __init__(self, nums: List[int]):\n",
    "        self.prefixArray = [sum(nums[: i + 1]) for i in range(len(nums))]\n",
    "\n",
    "    def sumRange(self, left: int, right: int) -> int:\n",
    "        if left == 0:\n",
    "            return self.prefixArray[right]\n",
    "        else:\n",
    "            return self.prefixArray[right] - self.prefixArray[left]\n",
    "\n",
    "\n",
    "testcases = [\n",
    "    [[[-2, 0, 3, -5, 2, -1]], [0, 2], [2, 5], [0, 5]],\n",
    "]\n",
    "obj = NumArray([-2, 0, 3, -5, 2, -1])\n",
    "ranges = [[0, 2], [2, 5], [0, 5]]\n",
    "for range_num in enumerate([[0, 2], [2, 5], [0, 5]]):\n",
    "    print(f\"{range_num} : {obj.sumRange(range_num[0], range_num[1])}\")\n"
   ]
  },
  {
   "cell_type": "code",
   "execution_count": null,
   "id": "81b843ae",
   "metadata": {},
   "outputs": [
    {
     "name": "stdout",
     "output_type": "stream",
     "text": [
      "[1, 2, 3, 4, 100, 200]\n",
      "4\n"
     ]
    }
   ],
   "source": [
    "# 128. Longest Consecutive Sequence\n",
    "# [link](https://leetcode.com/problems/longest-consecutive-sequence/)\n",
    "from typing import List\n",
    "\n",
    "\n",
    "def longestConsecutive(nums: List[int]) -> int:\n",
    "    uniq = list(set(nums))\n",
    "    uniq.sort()\n",
    "    count = 0\n",
    "    max_count = 0\n",
    "    print(uniq)\n",
    "    for i in range(len(uniq)):\n",
    "        if uniq[i - 1] + 1 == uniq[i]:\n",
    "            count += 1\n",
    "            max_count = max(count, max_count)\n",
    "        else:\n",
    "            max_count = max(count, max_count)\n",
    "            count = 1\n",
    "\n",
    "    return max_count\n",
    "\n",
    "\n",
    "print(longestConsecutive([100, 4, 200, 1, 3, 2]))"
   ]
  },
  {
   "cell_type": "code",
   "execution_count": null,
   "id": "97e7871c",
   "metadata": {},
   "outputs": [
    {
     "name": "stdout",
     "output_type": "stream",
     "text": [
      "[[1, 3], [2, 6], [8, 10], [15, 18]] : [[1, 6], [8, 10], [15, 18]]\n",
      "[[1, 4], [4, 5]] : [[1, 5]]\n",
      "[[1, 3]] : [[1, 3]]\n",
      "[[0, 4], [1, 4]] : [[0, 4]]\n",
      "[[1, 4], [5, 6]] : [[5, 6]]\n"
     ]
    }
   ],
   "source": [
    "# 128. Merge Intervals\n",
    "# [link](https://leetcode.com/problems/merge-intervals/)\n",
    "from typing import List\n",
    "\n",
    "\n",
    "def merge(intervals: List[List[int]]) -> List[List[int]]:\n",
    "    if not intervals:\n",
    "        return []\n",
    "    intervals.sort()\n",
    "    merged = [intervals[0]]\n",
    "\n",
    "    for i in range(1, len(intervals)):\n",
    "        prev = merged[-1]\n",
    "        curr = intervals[i]\n",
    "\n",
    "        if curr[0] <= prev[1]:\n",
    "            # Merge the intervals\n",
    "            prev[1] = max(prev[1], curr[1])\n",
    "        else:\n",
    "            merged.append(curr)\n",
    "\n",
    "    return merged\n",
    "\n",
    "\n",
    "for testcase in [\n",
    "    [[1, 3], [2, 6], [8, 10], [15, 18]],\n",
    "    [[1, 4], [4, 5]],\n",
    "    [[1, 3]],\n",
    "    [[1, 4], [0, 4]],\n",
    "    [[1, 4], [5, 6]],\n",
    "]:\n",
    "    print(testcase, \":\", merge(testcase))"
   ]
  },
  {
   "cell_type": "code",
   "execution_count": null,
   "id": "3c6103de",
   "metadata": {},
   "outputs": [
    {
     "name": "stdout",
     "output_type": "stream",
     "text": [
      "8\n"
     ]
    }
   ],
   "source": [
    "from typing import List\n",
    "\n",
    "\n",
    "# Max Area of Container With Most Water\n",
    "# [link](https://leetcode.com/problems/container-with-most-water/)\n",
    "class Solution:\n",
    "    def maxArea(self, height: List[int]) -> int:\n",
    "        # graph = [(i,height[i]) for i in range(len(height))]\n",
    "\n",
    "        max_area = 0\n",
    "        n = len(height)\n",
    "        left, right = 0, n - 1\n",
    "        while left < right:\n",
    "            area = (right - left) * min(height[right], height[left])\n",
    "            max_area = max(area, max_area)\n",
    "            if height[left] > height[right]:\n",
    "                left += 1\n",
    "            else:\n",
    "                right -= 1\n",
    "        return max_area\n",
    "\n",
    "\n",
    "print(Solution().maxArea([1, 8, 6, 2, 5, 4, 8, 3, 7]))"
   ]
  },
  {
   "cell_type": "code",
   "execution_count": 6,
   "id": "39dc31d6",
   "metadata": {},
   "outputs": [
    {
     "name": "stdout",
     "output_type": "stream",
     "text": [
      "6\n"
     ]
    }
   ],
   "source": [
    "# 42. Trapping Rain Water\n",
    "# [link](https://leetcode.com/problems/trapping-rain-water/)\n",
    "from typing import List\n",
    "\n",
    "class Solution:\n",
    "    def trap(self, height: List[int]) -> int:\n",
    "        left, right = 0, len(height) - 1\n",
    "        left_max, right_max = 0, 0\n",
    "        water = 0\n",
    "\n",
    "        while left < right:\n",
    "            if height[left] < height[right]:\n",
    "                if height[left] >= left_max:\n",
    "                    left_max = height[left]\n",
    "                else:\n",
    "                    water += left_max - height[left]\n",
    "                left += 1\n",
    "            else:\n",
    "                if height[right] >= right_max:\n",
    "                    right_max = height[right]\n",
    "                else:\n",
    "                    water += right_max - height[right]\n",
    "                right -= 1\n",
    "\n",
    "        return water\n",
    "\n",
    "\n",
    "\n",
    "obj = Solution().trap([0, 1, 0, 2, 1, 0, 1, 3, 2, 1, 2, 1])\n",
    "print(obj)  # Output: 6"
   ]
  }
 ],
 "metadata": {
  "kernelspec": {
   "display_name": "Python 3",
   "language": "python",
   "name": "python3"
  },
  "language_info": {
   "codemirror_mode": {
    "name": "ipython",
    "version": 3
   },
   "file_extension": ".py",
   "mimetype": "text/x-python",
   "name": "python",
   "nbconvert_exporter": "python",
   "pygments_lexer": "ipython3",
   "version": "3.13.3"
  }
 },
 "nbformat": 4,
 "nbformat_minor": 5
}
