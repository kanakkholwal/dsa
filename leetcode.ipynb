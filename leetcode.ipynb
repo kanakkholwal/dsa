{
 "cells": [
  {
   "cell_type": "code",
   "execution_count": 3,
   "id": "f3eb2171",
   "metadata": {},
   "outputs": [
    {
     "name": "stdout",
     "output_type": "stream",
     "text": [
      "[3, 3, 5, 5, 6, 7]\n"
     ]
    }
   ],
   "source": [
    "# https://leetcode.com/problems/sliding-window-maximum/\n",
    "from typing import List\n",
    "\n",
    "class Solution:\n",
    "    def maxSlidingWindow(self, nums: List[int], k: int) -> List[int]:\n",
    "        window_max = []\n",
    "        for i in range(len(nums) - k + 1):\n",
    "            window_max.append(max(nums[i:i+k]))\n",
    "        return window_max\n",
    "\n",
    "sol = Solution()\n",
    "# Example usage:\n",
    "print(sol.maxSlidingWindow([1,3,-1,-3,5,3,6,7],3))  # Output: [3, 3, 5, 5, 6, 7]\n",
    "# This will print the maximum values in each sliding window of size k."
   ]
  },
  {
   "cell_type": "markdown",
   "id": "fb673ff4",
   "metadata": {},
   "source": []
  }
 ],
 "metadata": {
  "kernelspec": {
   "display_name": "Python 3",
   "language": "python",
   "name": "python3"
  },
  "language_info": {
   "codemirror_mode": {
    "name": "ipython",
    "version": 3
   },
   "file_extension": ".py",
   "mimetype": "text/x-python",
   "name": "python",
   "nbconvert_exporter": "python",
   "pygments_lexer": "ipython3",
   "version": "3.13.3"
  }
 },
 "nbformat": 4,
 "nbformat_minor": 5
}
