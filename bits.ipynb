{
 "cells": [
  {
   "cell_type": "markdown",
   "id": "6c34be99",
   "metadata": {},
   "source": [
    "### Bit Manipulation"
   ]
  },
  {
   "cell_type": "code",
   "execution_count": null,
   "id": "ad69b303",
   "metadata": {},
   "outputs": [
    {
     "name": "stdout",
     "output_type": "stream",
     "text": [
      "Performing bitwise operations on 5 and 3\n",
      "Binary representation of 5: 0b101\n",
      "Binary representation of 3: 0b11\n",
      "{'AND': 1, 'OR': 7, 'XOR': 6, 'NOT': -6}\n"
     ]
    }
   ],
   "source": [
    "def bitwise_operations(a, b):\n",
    "    print(f\"Performing bitwise operations on {a} and {b}\")\n",
    "    print(f\"Binary representation of {a}: {bin(a)}\")\n",
    "    print(f\"Binary representation of {b}: {bin(b)}\")\n",
    "    # Bitwise AND\n",
    "    and_result = a & b\n",
    "    # Bitwise OR\n",
    "    or_result = a | b\n",
    "    # Bitwise XOR\n",
    "    xor_result = a ^ b\n",
    "    # Bitwise NOT\n",
    "    not_result = ~a\n",
    "    return {\n",
    "        \"AND\": and_result,\n",
    "        \"OR\": or_result,\n",
    "        \"XOR\": xor_result,\n",
    "        \"NOT\": not_result\n",
    "    }\n",
    "print(bitwise_operations(5, 3))\n",
    "\n",
    "def set_bit(number, bit_position):\n",
    "    print(f\"Setting bit at position {bit_position} of {number}\")\n",
    "    return number | (1 << bit_position)\n",
    "def clear_bit(number, bit_position):\n",
    "    print(f\"Clearing bit at position {bit_position} of {number}\")\n",
    "    return number & ~(1 << bit_position)\n",
    "\n",
    "def toggle_bit(number, bit_position):\n",
    "    print(f\"Toggling bit at position {bit_position} of {number}\")\n",
    "    return number ^ (1 << bit_position)"
   ]
  }
 ],
 "metadata": {
  "kernelspec": {
   "display_name": "Python 3",
   "language": "python",
   "name": "python3"
  },
  "language_info": {
   "codemirror_mode": {
    "name": "ipython",
    "version": 3
   },
   "file_extension": ".py",
   "mimetype": "text/x-python",
   "name": "python",
   "nbconvert_exporter": "python",
   "pygments_lexer": "ipython3",
   "version": "3.13.3"
  }
 },
 "nbformat": 4,
 "nbformat_minor": 5
}
