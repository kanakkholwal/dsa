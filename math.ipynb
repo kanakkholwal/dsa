{
 "cells": [
  {
   "cell_type": "code",
   "execution_count": 7,
   "id": "b7301233",
   "metadata": {},
   "outputs": [
    {
     "name": "stdout",
     "output_type": "stream",
     "text": [
      "0 9\n",
      "11891:99009\n",
      "0 9\n",
      "90:99\n"
     ]
    }
   ],
   "source": [
    "# 2566. Maximum Difference by Remapping a Digit\n",
    "# [link](https://leetcode.com/problems/maximum-difference-by-remapping-a-digit/description/)\n",
    "\n",
    "def minMaxDifference(num: int) -> int:\n",
    "        num_str = str(num)\n",
    "        lowest_num = None\n",
    "        largest_num = None\n",
    "        for i in range(len(num_str)):\n",
    "            if int(num_str[i]) != 9 and largest_num is None:\n",
    "                largest_num = num_str[i]\n",
    "            if int(num_str[i]) != 0 and lowest_num is None:\n",
    "                lowest_num = num_str[i]\n",
    "        lowest_num = num_str.replace(lowest_num,\"0\") if lowest_num is not None else num_str\n",
    "        largest_num = num_str.replace(largest_num,\"9\")\n",
    "        print(num_str.replace(num_str,\"0\"),num_str.replace(num_str,\"9\"))\n",
    "        return int(largest_num) - int(lowest_num)\n",
    "\n",
    "testcases = [11891,90]\n",
    "for case in testcases:\n",
    "     print(f'{case}:{minMaxDifference((case))}')"
   ]
  },
  {
   "cell_type": "code",
   "execution_count": null,
   "id": "bd2c79de",
   "metadata": {},
   "outputs": [],
   "source": [
    "from typing import List\n",
    "\n",
    "\n",
    "def generate( numRows: int) -> List[List[int]]:\n",
    "    res = []\n",
    "\n",
    "    for i in range(numRows):\n",
    "        res[i] = [[sum(res[i -1][k]if res[i-1][k] else 1,res[i-1][k-1] if res[i-1][k-1] else 1) for k in range(i + 1)]]\n",
    "\n",
    "    return res\n",
    "\n",
    "testcases = [5,1]\n",
    "for case in testcases:\n",
    "     print(f'{case}:{generate(case)}')"
   ]
  },
  {
   "cell_type": "code",
   "execution_count": null,
   "id": "ba6cb9de",
   "metadata": {},
   "outputs": [],
   "source": [
    "import math\n",
    "\n",
    "\n",
    "class Solution:\n",
    "    def productExceptSelf(self, nums: List[int]) -> List[int]:\n",
    "        answer = [1] * len(nums)\n",
    "\n",
    "        for i in range(len(nums)):\n",
    "            answer[i] = math.prod(nums[:i] + nums[i + 1:])\n",
    "\n",
    "        return answer\n"
   ]
  },
  {
   "cell_type": "code",
   "execution_count": 13,
   "id": "facdf6d4",
   "metadata": {},
   "outputs": [
    {
     "name": "stdout",
     "output_type": "stream",
     "text": [
      "(2, 5): 49\n",
      "(3, 7): 499\n",
      "(7, 17): 74675620\n",
      "(5, 20): 2705054052\n"
     ]
    }
   ],
   "source": [
    "def kMirror(k: int, n: int) -> int:\n",
    "    def is_palindrome(s):\n",
    "        return s == s[::-1]\n",
    "\n",
    "    def to_base(number, base):\n",
    "        digits = []\n",
    "        while number:\n",
    "            digits.append(number % base)\n",
    "            number //= base\n",
    "        return digits[::-1] or [0]\n",
    "\n",
    "    def generate_palindromes():\n",
    "        i = 1\n",
    "        while True:\n",
    "            s = str(i)\n",
    "            # Odd-length palindrome\n",
    "            yield int(s + s[-2::-1])\n",
    "            # Even-length palindrome\n",
    "            yield int(s + s[::-1])\n",
    "            i += 1\n",
    "\n",
    "    res = []\n",
    "    for num in generate_palindromes():\n",
    "        if is_palindrome(''.join(map(str, to_base(num, k)))):\n",
    "            res.append(num)\n",
    "            if len(res) == n:\n",
    "                break\n",
    "    return sum(res)\n",
    "\n",
    "testcases = [(2, 5), (3, 7), (7, 17), (5, 20)]\n",
    "for case in testcases:\n",
    "    print(f'{case}: {kMirror(case[0], case[1])}')\n"
   ]
  },
  {
   "cell_type": "code",
   "execution_count": null,
   "id": "a250f7fd",
   "metadata": {},
   "outputs": [
    {
     "name": "stdout",
     "output_type": "stream",
     "text": [
      "52: 5\n",
      "35427: 35\n"
     ]
    },
    {
     "ename": "ValueError",
     "evalue": "invalid literal for int() with base 10: ''",
     "output_type": "error",
     "traceback": [
      "\u001b[31m---------------------------------------------------------------------------\u001b[39m",
      "\u001b[31mValueError\u001b[39m                                Traceback (most recent call last)",
      "\u001b[36mCell\u001b[39m\u001b[36m \u001b[39m\u001b[32mIn[1]\u001b[39m\u001b[32m, line 12\u001b[39m\n\u001b[32m     10\u001b[39m testcases = [\u001b[33m\"\u001b[39m\u001b[33m52\u001b[39m\u001b[33m\"\u001b[39m,\u001b[33m\"\u001b[39m\u001b[33m35427\u001b[39m\u001b[33m\"\u001b[39m, \u001b[33m\"\u001b[39m\u001b[33m4206\u001b[39m\u001b[33m\"\u001b[39m]\n\u001b[32m     11\u001b[39m \u001b[38;5;28;01mfor\u001b[39;00m case \u001b[38;5;129;01min\u001b[39;00m testcases:\n\u001b[32m---> \u001b[39m\u001b[32m12\u001b[39m     \u001b[38;5;28mprint\u001b[39m(\u001b[33mf\u001b[39m\u001b[33m'\u001b[39m\u001b[38;5;132;01m{\u001b[39;00mcase\u001b[38;5;132;01m}\u001b[39;00m\u001b[33m: \u001b[39m\u001b[38;5;132;01m{\u001b[39;00m\u001b[43mlargestOddNumber\u001b[49m\u001b[43m(\u001b[49m\u001b[43mcase\u001b[49m\u001b[43m)\u001b[49m\u001b[38;5;132;01m}\u001b[39;00m\u001b[33m'\u001b[39m)\n",
      "\u001b[36mCell\u001b[39m\u001b[36m \u001b[39m\u001b[32mIn[1]\u001b[39m\u001b[32m, line 5\u001b[39m, in \u001b[36mlargestOddNumber\u001b[39m\u001b[34m(num)\u001b[39m\n\u001b[32m      3\u001b[39m \u001b[38;5;28;01mwhile\u001b[39;00m i < \u001b[38;5;28mlen\u001b[39m(num):\n\u001b[32m      4\u001b[39m  n = num[:-(\u001b[32m1\u001b[39m + i)]\n\u001b[32m----> \u001b[39m\u001b[32m5\u001b[39m  \u001b[38;5;28;01mif\u001b[39;00m \u001b[38;5;28;43mint\u001b[39;49m\u001b[43m(\u001b[49m\u001b[43mn\u001b[49m\u001b[43m)\u001b[49m % \u001b[32m2\u001b[39m != \u001b[32m0\u001b[39m:\n\u001b[32m      6\u001b[39m       \u001b[38;5;28;01mreturn\u001b[39;00m num[:-(\u001b[32m1\u001b[39m + i)]\n\u001b[32m      7\u001b[39m  i += \u001b[32m1\u001b[39m\n",
      "\u001b[31mValueError\u001b[39m: invalid literal for int() with base 10: ''"
     ]
    }
   ],
   "source": [
    "def largestOddNumber(num: str) -> str:\n",
    "    # Iterate from the end to the start\n",
    "    for i in range(len(num) - 1, -1, -1):\n",
    "        if int(num[i]) % 2 == 1:\n",
    "            return num[:i+1]\n",
    "    return \"\"\n",
    "\n",
    "testcases = [\"52\", \"35427\", \"4206\"]\n",
    "for case in testcases:\n",
    "    print(f'{case}: {largestOddNumber(case)}')"
   ]
  },
  {
   "cell_type": "code",
   "execution_count": 2,
   "id": "4033e8da",
   "metadata": {},
   "outputs": [
    {
     "name": "stdout",
     "output_type": "stream",
     "text": [
      "2\n"
     ]
    }
   ],
   "source": [
    "from itertools import combinations\n",
    "\n",
    "def sweetness_diff(N, sweetness, K):\n",
    "    partitions = combinations(range(1, N), K-1)\n",
    "    totals = []\n",
    "    for split_indices in partitions:\n",
    "        split_indices = (0,) + split_indices + (N,)\n",
    "        total = 0\n",
    "        for i in range(K):\n",
    "            left = split_indices[i]\n",
    "            right = split_indices[i+1] - 1\n",
    "            total += sweetness[left] + sweetness[right]\n",
    "        totals.append(total)\n",
    "    return max(totals) - min(totals)\n",
    "\n",
    "\n",
    "print(sweetness_diff(3, [3,2,1],2))  # Example usage"
   ]
  }
 ],
 "metadata": {
  "kernelspec": {
   "display_name": "Python 3",
   "language": "python",
   "name": "python3"
  },
  "language_info": {
   "codemirror_mode": {
    "name": "ipython",
    "version": 3
   },
   "file_extension": ".py",
   "mimetype": "text/x-python",
   "name": "python",
   "nbconvert_exporter": "python",
   "pygments_lexer": "ipython3",
   "version": "3.13.3"
  }
 },
 "nbformat": 4,
 "nbformat_minor": 5
}
