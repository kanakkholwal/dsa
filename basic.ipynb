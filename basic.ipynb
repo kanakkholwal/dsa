{
 "cells": [
  {
   "cell_type": "code",
   "execution_count": null,
   "id": "34efa6f7",
   "metadata": {},
   "outputs": [],
   "source": [
    "x = 3\n",
    "y = str(x)\n",
    "\n",
    "print(y + y)"
   ]
  },
  {
   "cell_type": "code",
   "execution_count": null,
   "id": "b0e0f05d",
   "metadata": {},
   "outputs": [],
   "source": [
    "a = int(input(\"Enter a number: \"))\n",
    "b = int(input(\"Enter another number: \"))\n",
    "\n",
    "print(a + b)"
   ]
  },
  {
   "cell_type": "code",
   "execution_count": null,
   "id": "d816022e",
   "metadata": {},
   "outputs": [],
   "source": [
    "def myfunc():\n",
    "    global x\n",
    "    x = \"fantastic\"\n",
    "    print(\"Python is \" + x)\n",
    "\n",
    "\n",
    "myfunc()\n",
    "\n",
    "print(\"Python is \" + x)"
   ]
  },
  {
   "cell_type": "code",
   "execution_count": null,
   "id": "36206ef1",
   "metadata": {},
   "outputs": [],
   "source": [
    "n = 3\n",
    "for i in range(n):\n",
    "    for j in range(n):\n",
    "        print(\"*\", end=\" \" if j < n - 1 else \"\\n\")\n"
   ]
  },
  {
   "cell_type": "code",
   "execution_count": null,
   "id": "982eac7b",
   "metadata": {},
   "outputs": [],
   "source": [
    "class Solution:\n",
    "    def isPalindrome(self, s: str) -> bool:\n",
    "        s = \"\".join(filter(str.isalnum, s)).lower()\n",
    "        s = s.strip()\n",
    "        return s == s[::-1]"
   ]
  },
  {
   "cell_type": "code",
   "execution_count": null,
   "id": "28d10f29",
   "metadata": {},
   "outputs": [],
   "source": [
    "x = \"200\"\n",
    "print(isinstance(x, int))"
   ]
  },
  {
   "cell_type": "code",
   "execution_count": null,
   "id": "f949d692",
   "metadata": {},
   "outputs": [],
   "source": [
    "my_list = [\n",
    "    {\"roll_no\": 1, \"name\": \"John\"},\n",
    "    {\"roll_no\": 2, \"name\": \"Jane\"},\n",
    "    {\"roll_no\": 3, \"name\": \"Doe\"},\n",
    "]\n",
    "my_list.sort(key=lambda x: x[\"roll_no\"])\n",
    "\n",
    "this_list = [\"banana\", \"Orange\", \"Kiwi\", \"cherry\"]\n",
    "\n",
    "this_list.sort(key=str.lower)\n",
    "\n",
    "print(this_list)"
   ]
  },
  {
   "cell_type": "code",
   "execution_count": null,
   "id": "2cefa464",
   "metadata": {},
   "outputs": [],
   "source": [
    "def countDigitOne(n: int) -> int:\n",
    "    count = 0\n",
    "    for i in range(0, n + 1):\n",
    "        count = str(i).count(\"1\") + count\n",
    "\n",
    "    return count\n",
    "\n",
    "\n",
    "print(countDigitOne(13))\n"
   ]
  },
  {
   "cell_type": "markdown",
   "id": "d58e6ba0",
   "metadata": {},
   "source": [
    "### Sortings"
   ]
  },
  {
   "cell_type": "code",
   "execution_count": 5,
   "id": "ad9a52cd",
   "metadata": {},
   "outputs": [
    {
     "name": "stdout",
     "output_type": "stream",
     "text": [
      "Selection sort array: [5, 11, 12, 22, 25, 34, 64, 90]\n",
      "Bubble sort array: [5, 11, 12, 22, 25, 34, 64, 90]\n",
      "Insertion sort array: [5, 11, 12, 22, 25, 34, 64, 90]\n",
      "Quick sort array: [5, 11, 12, 22, 25, 34, 64, 90]\n",
      "Merge sort array: [5, 11, 12, 22, 25, 34, 64, 90]\n"
     ]
    }
   ],
   "source": [
    "array = [64, 34, 25, 5, 22, 11, 90, 12]\n",
    "n = len(array)\n",
    "\n",
    "\n",
    "# Selection sort\n",
    "# Time complexity: O(n^2)\n",
    "sel_array = array.copy()\n",
    "\n",
    "for i in range(n - 1):\n",
    "    min_idx = i\n",
    "    for j in range(i + 1, n):\n",
    "        if sel_array[min_idx] > sel_array[j]:\n",
    "            min_idx = j\n",
    "    min_value = sel_array.pop(min_idx)\n",
    "    sel_array.insert(i, min_value)\n",
    "\n",
    "print(\"Selection sort array:\", sel_array)\n",
    "\n",
    "# Bubble sort\n",
    "# Time complexity: O(n^2)\n",
    "bub_array = array.copy()\n",
    "for i in range(0, n - 1):\n",
    "    for j in range(0, n - i - 1):\n",
    "        if bub_array[j] > bub_array[j + 1]:\n",
    "            bub_array[j], bub_array[j + 1] = bub_array[j + 1], bub_array[j]\n",
    "\n",
    "print(\"Bubble sort array:\", bub_array)\n",
    "\n",
    "# Insertion sort\n",
    "# Time complexity: O(n^2)\n",
    "ins_array = array.copy()\n",
    "for i in range(1, n):\n",
    "    insert_index = i\n",
    "    current_value = ins_array[i]\n",
    "    for j in range(i - 1, -1, -1):\n",
    "        if ins_array[j] > current_value:\n",
    "            ins_array[j + 1] = ins_array[j]\n",
    "            insert_index = j\n",
    "        else:\n",
    "            break\n",
    "    ins_array[insert_index] = current_value\n",
    "\n",
    "print(\"Insertion sort array:\", ins_array)\n",
    "\n",
    "\n",
    "# Quick sort\n",
    "# Time complexity: O(n log n)\n",
    "qui_array = array.copy()\n",
    "\n",
    "\n",
    "def quick_sort(arr):\n",
    "    if len(arr) <= 1:\n",
    "        return arr\n",
    "    pivot = arr[len(arr) // 2]\n",
    "    left = [x for x in arr if x < pivot]\n",
    "    middle = [x for x in arr if x == pivot]\n",
    "    right = [x for x in arr if x > pivot]\n",
    "    return quick_sort(left) + middle + quick_sort(right)\n",
    "\n",
    "\n",
    "qui_array = quick_sort(qui_array)\n",
    "print(\"Quick sort array:\", qui_array)\n",
    "\n",
    "# Merge sort\n",
    "# Time complexity: O(n log n)\n",
    "merge_array = array.copy()\n",
    "def merge_sort(arr):\n",
    "    if len(arr) <= 1:\n",
    "        return arr\n",
    "    mid = len(arr) // 2\n",
    "    left_arr = merge_sort(arr[:mid])\n",
    "    right_arr = merge_sort(arr[mid:])\n",
    "    return merge(left_arr,right_arr)\n",
    "\n",
    "def merge(left,right):\n",
    "    i = j = 0\n",
    "    res = []\n",
    "    while i < len(left) and j < len(right):\n",
    "        if left[i] < right[j]:\n",
    "            res.append(left[i])\n",
    "            i+=1\n",
    "        else:\n",
    "            res.append(right[j])\n",
    "            j+=1\n",
    "    res.extend(left[i:])\n",
    "    res.extend(right[j:])\n",
    "    return res\n",
    "print(\"Merge sort array:\", merge_sort(merge_array))\n"
   ]
  },
  {
   "cell_type": "code",
   "execution_count": null,
   "id": "151fa6f6",
   "metadata": {},
   "outputs": [],
   "source": [
    "def hash_function(value):\n",
    "    sum_of_chars = 0\n",
    "    for char in value:\n",
    "        sum_of_chars += ord(char)\n",
    "        print(ord(char))\n",
    "\n",
    "    return sum_of_chars % 10\n",
    "\n",
    "\n",
    "print(6 // 2)"
   ]
  },
  {
   "cell_type": "code",
   "execution_count": null,
   "id": "c74e0c7f",
   "metadata": {},
   "outputs": [],
   "source": [
    "myArray = [1, 3, 5, 7, 9, 11, 13, 15, 17, 19]\n",
    "\n",
    "\n",
    "def binary_search(arr, target):\n",
    "    left = 0\n",
    "    right = len(arr) - 1\n",
    "\n",
    "    while left <= right:\n",
    "        mid = (left + right) // 2\n",
    "        if arr[mid] == target:\n",
    "            return mid\n",
    "        if arr[mid] < target:\n",
    "            left = mid + 1\n",
    "        else:\n",
    "            right = mid - 1\n",
    "\n",
    "    return -1\n",
    "\n",
    "\n",
    "print(binary_search(myArray, 0))"
   ]
  },
  {
   "cell_type": "markdown",
   "id": "75ebb864",
   "metadata": {},
   "source": [
    "### Trees"
   ]
  },
  {
   "cell_type": "code",
   "execution_count": null,
   "id": "ca0d30ee",
   "metadata": {},
   "outputs": [],
   "source": []
  },
  {
   "cell_type": "code",
   "execution_count": null,
   "id": "cc02ecba",
   "metadata": {},
   "outputs": [],
   "source": []
  },
  {
   "cell_type": "code",
   "execution_count": null,
   "id": "f19e81c4",
   "metadata": {},
   "outputs": [],
   "source": []
  },
  {
   "cell_type": "code",
   "execution_count": null,
   "id": "c0aac29a",
   "metadata": {},
   "outputs": [],
   "source": [
    "# Quick sort\n",
    "from typing import List\n",
    "\n",
    "\n",
    "def quick_sort(arr: List[int]) -> List[int]:\n",
    "    if len(arr) <= 1:\n",
    "        return arr\n",
    "    pivot = arr[len(arr) // 2]\n",
    "    left = [x for x in arr if x < pivot]\n",
    "    middle = [x for x in arr if x == pivot]\n",
    "    right = [x for x in arr if x > pivot]\n",
    "    return quick_sort(left) + middle + quick_sort(right)\n",
    "\n",
    "\n",
    "array = [64, 34, 25, 5, 22, 11, 90, 12]\n",
    "\n",
    "print(\"sorted\", quick_sort(array))"
   ]
  },
  {
   "cell_type": "code",
   "execution_count": null,
   "id": "832d1404",
   "metadata": {},
   "outputs": [],
   "source": [
    "a = \"1A3\"\n",
    "\n",
    "# Convert hexadecimal to an integer\n",
    "d = int(a, 16)\n",
    "print(\"Decimal:\", d)\n",
    "# Convert integer to binary using bin()\n",
    "b = bin(d)[2:]  # Remove the \"0b\" prefix\n",
    "\n",
    "print(\"Binary:\", b)\n",
    "print(\"Hexadecimal:\", hex(d)[2:])  # Remove the \"0x\" prefix\n",
    "print(\"Octal:\", bin(161)[2:])  # Remove the \"0o\" prefix"
   ]
  },
  {
   "cell_type": "code",
   "execution_count": null,
   "id": "84a123dd",
   "metadata": {},
   "outputs": [],
   "source": [
    "class Solution:\n",
    "    def divideString(self, s: str, k: int, fill: str) -> List[str]:\n",
    "        ans = []\n",
    "\n",
    "        for i in range(0,len(s),k):\n",
    "            if len(s) - i < k:\n",
    "                ans.append(s[i] + fill * (k - (len(s) - i)))\n",
    "            else:\n",
    "                ans.append(s[i:i+k])\n",
    "        return ans"
   ]
  }
 ],
 "metadata": {
  "kernelspec": {
   "display_name": "Python 3",
   "language": "python",
   "name": "python3"
  },
  "language_info": {
   "codemirror_mode": {
    "name": "ipython",
    "version": 3
   },
   "file_extension": ".py",
   "mimetype": "text/x-python",
   "name": "python",
   "nbconvert_exporter": "python",
   "pygments_lexer": "ipython3",
   "version": "3.13.3"
  }
 },
 "nbformat": 4,
 "nbformat_minor": 5
}
